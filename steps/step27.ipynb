{
 "cells": [
  {
   "cell_type": "code",
   "execution_count": null,
   "id": "07c9c59a",
   "metadata": {},
   "outputs": [],
   "source": [
    "if '__file__' in globals():\n",
    "    import os, sys\n",
    "    sys.path.append(os.path.join(os.path.dirname(__file__), '..'))\n",
    "import numpy as np\n",
    "import math\n",
    "from dezero import Variable, Function\n",
    "from dezero.utils import plot_dot_graph"
   ]
  },
  {
   "cell_type": "code",
   "execution_count": null,
   "id": "3c2b443a",
   "metadata": {},
   "outputs": [],
   "source": [
    "class Sin(Function):\n",
    "    def forward(self, x):\n",
    "        y = np.sin(x)\n",
    "        return y\n",
    "\n",
    "    def backward(self, gy):\n",
    "        x = self.inputs[0].data\n",
    "        gx = gy * np.cos(x)\n",
    "        return gx"
   ]
  },
  {
   "cell_type": "code",
   "execution_count": null,
   "id": "a58c4fed",
   "metadata": {},
   "outputs": [],
   "source": [
    "def sin(x):\n",
    "    return Sin()(x)"
   ]
  },
  {
   "cell_type": "code",
   "execution_count": null,
   "id": "9d2aace8",
   "metadata": {},
   "outputs": [],
   "source": [
    "x = Variable(np.array(np.pi / 4))\n",
    "y = sin(x)\n",
    "y.backward()\n",
    "print('--- original sin ---')\n",
    "print(y.data)\n",
    "print(x.grad)"
   ]
  },
  {
   "cell_type": "code",
   "execution_count": null,
   "id": "a10e3203",
   "metadata": {},
   "outputs": [],
   "source": [
    "def my_sin(x, threshold=0.0001):\n",
    "    y = 0\n",
    "    for i in range(100000):\n",
    "        c = (-1) ** i / math.factorial(2 * i + 1)\n",
    "        t = c * x ** (2 * i + 1)\n",
    "        y = y + t\n",
    "        if abs(t.data) < threshold:\n",
    "            break\n",
    "    return y"
   ]
  },
  {
   "cell_type": "code",
   "execution_count": null,
   "id": "0622da41",
   "metadata": {},
   "outputs": [],
   "source": [
    "x = Variable(np.array(np.pi / 4))\n",
    "y = my_sin(x)  # , threshold=1e-150)\n",
    "y.backward()\n",
    "print('--- approximate sin ---')\n",
    "print(y.data)\n",
    "print(x.grad)"
   ]
  },
  {
   "cell_type": "code",
   "execution_count": null,
   "id": "1f96745c",
   "metadata": {},
   "outputs": [],
   "source": [
    "x.name = 'x'\n",
    "y.name = 'y'\n",
    "plot_dot_graph(y, verbose=False, to_file='my_sin.png')"
   ]
  }
 ],
 "metadata": {
  "jupytext": {
   "cell_metadata_filter": "-all",
   "main_language": "python",
   "notebook_metadata_filter": "-all"
  }
 },
 "nbformat": 4,
 "nbformat_minor": 5
}
