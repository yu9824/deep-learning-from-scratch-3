{
 "cells": [
  {
   "cell_type": "markdown",
   "id": "a3a4c9a0",
   "metadata": {},
   "source": [
    "DOT言語を使用してグラフを書いてみる\n",
    "\n",
    "grapyvizの `dot` コマンドを使用して書く。"
   ]
  },
  {
   "cell_type": "code",
   "execution_count": 1,
   "id": "c65b4ed7",
   "metadata": {},
   "outputs": [],
   "source": [
    "from IPython.display import Image"
   ]
  },
  {
   "cell_type": "code",
   "execution_count": 2,
   "id": "c7d7281f",
   "metadata": {},
   "outputs": [],
   "source": [
    "sample_dot = \"\"\"\n",
    "digraph g{\n",
    "x\n",
    "y\n",
    "}\n",
    "\"\"\""
   ]
  },
  {
   "cell_type": "code",
   "execution_count": 3,
   "id": "0ea4e2b5",
   "metadata": {},
   "outputs": [],
   "source": [
    "with open(\"./sample.dot\", mode=\"w\", encoding=\"utf-8\") as f:\n",
    "    f.write(sample_dot)"
   ]
  },
  {
   "cell_type": "code",
   "execution_count": 4,
   "id": "3c8a3cae",
   "metadata": {},
   "outputs": [],
   "source": [
    "!dot sample.dot -T png -o sample.png"
   ]
  },
  {
   "cell_type": "code",
   "execution_count": 5,
   "id": "3a41bf9a",
   "metadata": {},
   "outputs": [
    {
     "data": {
      "image/png": "[encoded data removed]",
      "text/plain": [
       "<IPython.core.display.Image object>"
      ]
     },
     "execution_count": 5,
     "metadata": {},
     "output_type": "execute_result"
    }
   ],
   "source": [
    "Image(filename=\"./sample.png\")"
   ]
  },
  {
   "cell_type": "code",
   "execution_count": 6,
   "id": "bc059983",
   "metadata": {},
   "outputs": [],
   "source": [
    "sample_dot = \"\"\"\n",
    "digraph g{\n",
    "1 [label=\"x\", color=orange, style=filled]           # nodeの定義 []内でpropertyを定義\n",
    "2 [label=\"y\", color=orange, style=filled]\n",
    "3 [label=\"Exp\", color=lightblue, style=filled, shape=box]\n",
    "1 -> 3  # edgeの定義\n",
    "3 -> 2\n",
    "}\n",
    "\"\"\""
   ]
  },
  {
   "cell_type": "code",
   "execution_count": 7,
   "id": "cb91961b",
   "metadata": {},
   "outputs": [],
   "source": [
    "with open(\"./sample.dot\", mode=\"w\", encoding=\"utf-8\") as f:\n",
    "    f.write(sample_dot)"
   ]
  },
  {
   "cell_type": "code",
   "execution_count": 8,
   "id": "c77a7c23",
   "metadata": {},
   "outputs": [],
   "source": [
    "!dot sample.dot -T png -o sample.png"
   ]
  },
  {
   "cell_type": "code",
   "execution_count": 9,
   "id": "1dd9573f",
   "metadata": {},
   "outputs": [
    {
     "data": {
      "image/png": "[encoded data removed]",
      "text/plain": [
       "<IPython.core.display.Image object>"
      ]
     },
     "execution_count": 9,
     "metadata": {},
     "output_type": "execute_result"
    }
   ],
   "source": [
    "Image(filename=\"./sample.png\")"
   ]
  }
 ],
 "metadata": {
  "jupytext": {
   "cell_metadata_filter": "-all",
   "main_language": "python",
   "notebook_metadata_filter": "-all"
  },
  "kernelspec": {
   "display_name": "dlfs3",
   "language": "python",
   "name": "python3"
  },
  "language_info": {
   "codemirror_mode": {
    "name": "ipython",
    "version": 3
   },
   "file_extension": ".py",
   "mimetype": "text/x-python",
   "name": "python",
   "nbconvert_exporter": "python",
   "pygments_lexer": "ipython3",
   "version": "3.12.10"
  }
 },
 "nbformat": 4,
 "nbformat_minor": 5
}
