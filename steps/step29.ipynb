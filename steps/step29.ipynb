{
 "cells": [
  {
   "cell_type": "code",
   "execution_count": null,
   "id": "17f60ed3",
   "metadata": {},
   "outputs": [],
   "source": [
    "if '__file__' in globals():\n",
    "    import os, sys\n",
    "    sys.path.append(os.path.join(os.path.dirname(__file__), '..'))\n",
    "import numpy as np\n",
    "from dezero import Variable\n",
    "# import dezero's simple_core explicitly\n",
    "import dezero\n",
    "if not dezero.is_simple_core:\n",
    "    from dezero.core_simple import Variable\n",
    "    from dezero.core_simple import setup_variable\n",
    "    setup_variable()"
   ]
  },
  {
   "cell_type": "code",
   "execution_count": null,
   "id": "9c5d849c",
   "metadata": {},
   "outputs": [],
   "source": [
    "def f(x):\n",
    "    y = x ** 4 - 2 * x ** 2\n",
    "    return y"
   ]
  },
  {
   "cell_type": "code",
   "execution_count": null,
   "id": "d4b5f183",
   "metadata": {},
   "outputs": [],
   "source": [
    "def gx2(x):\n",
    "    return 12 * x ** 2 - 4"
   ]
  },
  {
   "cell_type": "code",
   "execution_count": null,
   "id": "13be30cf",
   "metadata": {},
   "outputs": [],
   "source": [
    "x = Variable(np.array(2.0))\n",
    "iters = 10"
   ]
  },
  {
   "cell_type": "code",
   "execution_count": null,
   "id": "9f6d72ac",
   "metadata": {},
   "outputs": [],
   "source": [
    "for i in range(iters):\n",
    "    print(i, x)\n",
    "\n",
    "    y = f(x)\n",
    "    x.cleargrad()\n",
    "    y.backward()\n",
    "\n",
    "    x.data -= x.grad / gx2(x.data)"
   ]
  }
 ],
 "metadata": {
  "jupytext": {
   "cell_metadata_filter": "-all",
   "main_language": "python",
   "notebook_metadata_filter": "-all"
  }
 },
 "nbformat": 4,
 "nbformat_minor": 5
}
