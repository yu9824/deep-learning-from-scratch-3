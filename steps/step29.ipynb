{
 "cells": [
  {
   "cell_type": "markdown",
   "id": "c13e5f36",
   "metadata": {},
   "source": [
    "一般に勾配降下法 (step28) より早く解に辿り着くとされるニュートン法を実装する。"
   ]
  },
  {
   "cell_type": "markdown",
   "id": "a6acec3c",
   "metadata": {},
   "source": [
    "勾配降下法は一次微分の情報だけを使うが、ニュートン法は二次微分の情報も使う。\n",
    "\n",
    "テイラー展開より、\n",
    "\n",
    "$$\n",
    "f(x) \\simeq f(a) + f'(a)(x-a) + f''(a)(x-a)^2\n",
    "$$\n",
    "\n",
    "この二次関数の最小値は解析的に求められ、\n",
    "\n",
    "$$\n",
    "\\frac{\\mathrm{d}}{\\mathrm{d} x} \\{ f(a) + f'(a)(x-a) + f''(a)(x-a)^2 \\} = 0 \\\\\n",
    "\\therefore x = a - \\frac{f'(a)}{f''(a)}\n",
    "$$\n",
    "\n",
    "つまり、$- \\frac{f'(a)}{f''(a)}$だけ$a$の位置を更新する。\n",
    "\n",
    "(勾配降下法では、$-\\alpha f'(a)$だけ更新するので、$\\alpha=\\frac{1}{f''(a)}$の特別な状況とみなすこともできる。)"
   ]
  },
  {
   "cell_type": "code",
   "execution_count": 1,
   "id": "17f60ed3",
   "metadata": {},
   "outputs": [],
   "source": [
    "import os\n",
    "import sys\n",
    "from pathlib import Path\n",
    "\n",
    "import numpy as np\n",
    "import matplotlib.pyplot as plt\n",
    "\n",
    "if \"__file__\" in globals():\n",
    "    sys.path.append(str((Path(__file__).parent / \"..\").resolve()))\n",
    "else:\n",
    "    sys.path.append(str(Path(os.getcwd(), \"..\").resolve()))\n",
    "from dezero.core_simple import Variable\n",
    "# import dezero's simple_core explicitly\n",
    "# import dezero\n",
    "# if not dezero.is_simple_core:\n",
    "# from dezero.core_simple import Variable\n",
    "# from dezero.core_simple import setup_variable\n",
    "# setup_variable()"
   ]
  },
  {
   "cell_type": "code",
   "execution_count": 2,
   "id": "9c5d849c",
   "metadata": {},
   "outputs": [],
   "source": [
    "def f(x):\n",
    "    \"\"\"ニュートン法で解いてみる問題\"\"\"\n",
    "    y = x**4 - 2 * x**2\n",
    "    return y"
   ]
  },
  {
   "cell_type": "code",
   "execution_count": 3,
   "id": "d4b5f183",
   "metadata": {},
   "outputs": [],
   "source": [
    "def gx2(x):\n",
    "    \"\"\"f(x)の二階微分\"\"\"\n",
    "    return 12 * x**2 - 4"
   ]
  },
  {
   "cell_type": "code",
   "execution_count": 4,
   "id": "13be30cf",
   "metadata": {},
   "outputs": [],
   "source": [
    "x = Variable(np.array(2.0))\n",
    "iters = 10"
   ]
  },
  {
   "cell_type": "code",
   "execution_count": 5,
   "id": "9f6d72ac",
   "metadata": {},
   "outputs": [
    {
     "name": "stdout",
     "output_type": "stream",
     "text": [
      "0 variable(2.0)\n",
      "1 variable(1.4545454545454546)\n",
      "2 variable(1.1510467893775467)\n",
      "3 variable(1.0253259289766978)\n",
      "4 variable(1.0009084519430513)\n",
      "5 variable(1.0000012353089454)\n",
      "6 variable(1.000000000002289)\n",
      "7 variable(1.0)\n",
      "8 variable(1.0)\n",
      "9 variable(1.0)\n"
     ]
    }
   ],
   "source": [
    "from array import array\n",
    "\n",
    "x_histories = array(\"f\")\n",
    "y_histories = array(\"f\")\n",
    "for i in range(iters):\n",
    "    print(i, x)\n",
    "\n",
    "    y = f(x)\n",
    "    x_histories.append(x.data.item())\n",
    "    y_histories.append(y.data.item())\n",
    "\n",
    "    x.cleargrad()\n",
    "    y.backward()\n",
    "\n",
    "    x.data -= x.grad / gx2(x.data)"
   ]
  },
  {
   "cell_type": "markdown",
   "id": "451a6644",
   "metadata": {},
   "source": [
    "最適化の様子の可視化"
   ]
  },
  {
   "cell_type": "code",
   "execution_count": 6,
   "id": "8d3f9803",
   "metadata": {},
   "outputs": [
    {
     "data": {
      "image/png": "[encoded data removed]",
      "text/plain": [
       "<Figure size 640x480 with 1 Axes>"
      ]
     },
     "metadata": {},
     "output_type": "display_data"
    }
   ],
   "source": [
    "x4plot = np.linspace(-2.1, 2.1, 101)\n",
    "\n",
    "fig, ax = plt.subplots()\n",
    "ax.plot(x4plot, f(x4plot))\n",
    "ax.plot(x_histories, y_histories, marker=\"o\")\n",
    "ax.set_xlabel(\"$x$\")\n",
    "ax.set_ylabel(\"$y$\")\n",
    "fig.tight_layout()"
   ]
  }
 ],
 "metadata": {
  "jupytext": {
   "cell_metadata_filter": "-all",
   "main_language": "python",
   "notebook_metadata_filter": "-all"
  },
  "kernelspec": {
   "display_name": "dlfs3",
   "language": "python",
   "name": "python3"
  },
  "language_info": {
   "codemirror_mode": {
    "name": "ipython",
    "version": 3
   },
   "file_extension": ".py",
   "mimetype": "text/x-python",
   "name": "python",
   "nbconvert_exporter": "python",
   "pygments_lexer": "ipython3",
   "version": "3.12.10"
  }
 },
 "nbformat": 4,
 "nbformat_minor": 5
}
