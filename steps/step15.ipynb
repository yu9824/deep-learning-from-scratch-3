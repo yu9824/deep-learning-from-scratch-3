{
 "cells": [
  {
   "cell_type": "markdown",
   "id": "263ce19b",
   "metadata": {},
   "source": [
    "現状のDoZeroは、createrをappendして管理している。そのため、分岐した場合に正しい順番で逆伝搬が行われないという課題がある。\n",
    "\n",
    "→ 世代 (関数の優先度) という概念を導入する必要がある。"
   ]
  }
 ],
 "metadata": {
  "jupytext": {
   "cell_metadata_filter": "-all",
   "main_language": "python",
   "notebook_metadata_filter": "-all"
  },
  "language_info": {
   "name": "python"
  }
 },
 "nbformat": 4,
 "nbformat_minor": 5
}
