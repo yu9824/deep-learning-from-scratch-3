{
 "cells": [
  {
   "cell_type": "code",
   "execution_count": 1,
   "id": "915fa6d3",
   "metadata": {},
   "outputs": [],
   "source": [
    "# Add import path for the dezero directory.\n",
    "import os\n",
    "import sys\n",
    "from pathlib import Path\n",
    "\n",
    "if \"__file__\" in globals():\n",
    "    sys.path.append(str((Path(__file__).parent / \"..\").resolve()))\n",
    "else:\n",
    "    sys.path.append(str(Path(os.getcwd(), \"..\").resolve()))\n"
   ]
  },
  {
   "cell_type": "code",
   "execution_count": 2,
   "id": "a13f17e6",
   "metadata": {
    "lines_to_next_cell": 2
   },
   "outputs": [],
   "source": [
    "import numpy as np\n",
    "\n",
    "from dezero.core_simple import Variable"
   ]
  },
  {
   "cell_type": "code",
   "execution_count": 3,
   "id": "19d3e55c",
   "metadata": {},
   "outputs": [],
   "source": [
    "x = Variable(np.array(1.0))\n",
    "y = (x + 3) ** 2\n",
    "y.backward()"
   ]
  },
  {
   "cell_type": "code",
   "execution_count": 4,
   "id": "7877a3a5",
   "metadata": {},
   "outputs": [
    {
     "name": "stdout",
     "output_type": "stream",
     "text": [
      "variable(16.0)\n",
      "8.0\n"
     ]
    }
   ],
   "source": [
    "print(y)\n",
    "print(x.grad)"
   ]
  }
 ],
 "metadata": {
  "jupytext": {
   "cell_metadata_filter": "-all",
   "main_language": "python",
   "notebook_metadata_filter": "-all"
  },
  "kernelspec": {
   "display_name": "dlfs3",
   "language": "python",
   "name": "python3"
  },
  "language_info": {
   "codemirror_mode": {
    "name": "ipython",
    "version": 3
   },
   "file_extension": ".py",
   "mimetype": "text/x-python",
   "name": "python",
   "nbconvert_exporter": "python",
   "pygments_lexer": "ipython3",
   "version": "3.12.10"
  }
 },
 "nbformat": 4,
 "nbformat_minor": 5
}
