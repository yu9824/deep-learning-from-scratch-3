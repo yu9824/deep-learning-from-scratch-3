{
 "cells": [
  {
   "cell_type": "markdown",
   "id": "dfdb52e8",
   "metadata": {},
   "source": [
    "現時点では、1階微分を自動で求められるだけ。高階微分も自動で求められるように拡張していく。"
   ]
  }
 ],
 "metadata": {
  "jupytext": {
   "cell_metadata_filter": "-all",
   "main_language": "python",
   "notebook_metadata_filter": "-all"
  },
  "language_info": {
   "name": "python"
  }
 },
 "nbformat": 4,
 "nbformat_minor": 5
}
