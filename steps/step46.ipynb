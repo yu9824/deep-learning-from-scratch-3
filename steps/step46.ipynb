{
 "cells": [
  {
   "cell_type": "code",
   "execution_count": null,
   "id": "f2333967",
   "metadata": {
    "lines_to_next_cell": 2
   },
   "outputs": [],
   "source": [
    "if '__file__' in globals():\n",
    "    import os, sys\n",
    "    sys.path.append(os.path.join(os.path.dirname(__file__), '..'))\n",
    "import numpy as np\n",
    "from dezero import optimizers\n",
    "import dezero.functions as F\n",
    "from dezero.models import MLP"
   ]
  },
  {
   "cell_type": "code",
   "execution_count": null,
   "id": "2f62117f",
   "metadata": {},
   "outputs": [],
   "source": [
    "np.random.seed(0)\n",
    "x = np.random.rand(100, 1)\n",
    "y = np.sin(2 * np.pi * x) + np.random.rand(100, 1)"
   ]
  },
  {
   "cell_type": "code",
   "execution_count": null,
   "id": "b73b84be",
   "metadata": {},
   "outputs": [],
   "source": [
    "lr = 0.2\n",
    "max_iter = 10000\n",
    "hidden_size = 10"
   ]
  },
  {
   "cell_type": "code",
   "execution_count": null,
   "id": "80953172",
   "metadata": {},
   "outputs": [],
   "source": [
    "model = MLP((hidden_size, 1))\n",
    "optimizer = optimizers.SGD(lr).setup(model)"
   ]
  },
  {
   "cell_type": "code",
   "execution_count": null,
   "id": "dfc5e6fb",
   "metadata": {},
   "outputs": [],
   "source": [
    "for i in range(max_iter):\n",
    "    y_pred = model(x)\n",
    "    loss = F.mean_squared_error(y, y_pred)\n",
    "\n",
    "    model.cleargrads()\n",
    "    loss.backward()\n",
    "\n",
    "    optimizer.update()\n",
    "    if i % 1000 == 0:\n",
    "        print(loss)"
   ]
  }
 ],
 "metadata": {
  "jupytext": {
   "cell_metadata_filter": "-all",
   "main_language": "python",
   "notebook_metadata_filter": "-all"
  }
 },
 "nbformat": 4,
 "nbformat_minor": 5
}
