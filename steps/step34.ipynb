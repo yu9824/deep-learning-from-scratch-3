{
 "cells": [
  {
   "cell_type": "code",
   "execution_count": null,
   "id": "22b94f46",
   "metadata": {},
   "outputs": [],
   "source": [
    "if '__file__' in globals():\n",
    "    import os, sys\n",
    "    sys.path.append(os.path.join(os.path.dirname(__file__), '..'))\n",
    "import numpy as np\n",
    "import matplotlib.pyplot as plt\n",
    "from dezero import Variable\n",
    "import dezero.functions as F"
   ]
  },
  {
   "cell_type": "code",
   "execution_count": null,
   "id": "e9e961f2",
   "metadata": {},
   "outputs": [],
   "source": [
    "x = Variable(np.linspace(-7, 7, 200))\n",
    "y = F.sin(x)\n",
    "y.backward(create_graph=True)"
   ]
  },
  {
   "cell_type": "code",
   "execution_count": null,
   "id": "7f6f575b",
   "metadata": {},
   "outputs": [],
   "source": [
    "logs = [y.data]"
   ]
  },
  {
   "cell_type": "code",
   "execution_count": null,
   "id": "ce76aae2",
   "metadata": {},
   "outputs": [],
   "source": [
    "for i in range(3):\n",
    "    logs.append(x.grad.data)\n",
    "    gx = x.grad\n",
    "    x.cleargrad()\n",
    "    gx.backward(create_graph=True)"
   ]
  },
  {
   "cell_type": "code",
   "execution_count": null,
   "id": "8cc9dca6",
   "metadata": {},
   "outputs": [],
   "source": [
    "labels = [\"y=sin(x)\", \"y'\", \"y''\", \"y'''\"]\n",
    "for i, v in enumerate(logs):\n",
    "    plt.plot(x.data, logs[i], label=labels[i])\n",
    "plt.legend(loc='lower right')\n",
    "plt.show()"
   ]
  }
 ],
 "metadata": {
  "jupytext": {
   "cell_metadata_filter": "-all",
   "main_language": "python",
   "notebook_metadata_filter": "-all"
  }
 },
 "nbformat": 4,
 "nbformat_minor": 5
}
