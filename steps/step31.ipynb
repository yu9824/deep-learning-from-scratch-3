{
 "cells": [
  {
   "cell_type": "markdown",
   "id": "b1ea9217",
   "metadata": {},
   "source": [
    "`.backward` を実行するときにも計算グラフを作ってやれば、1階微分に対する微分も同様に `.backward` で計算できる。"
   ]
  }
 ],
 "metadata": {
  "jupytext": {
   "cell_metadata_filter": "-all",
   "main_language": "python",
   "notebook_metadata_filter": "-all"
  },
  "language_info": {
   "name": "python"
  }
 },
 "nbformat": 4,
 "nbformat_minor": 5
}
