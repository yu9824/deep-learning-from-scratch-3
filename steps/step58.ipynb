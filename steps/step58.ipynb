{
 "cells": [
  {
   "cell_type": "code",
   "execution_count": null,
   "id": "5f5a7193",
   "metadata": {
    "lines_to_next_cell": 2
   },
   "outputs": [],
   "source": [
    "if '__file__' in globals():\n",
    "    import os, sys\n",
    "    sys.path.append(os.path.join(os.path.dirname(__file__), '..'))\n",
    "import numpy as np\n",
    "from PIL import Image\n",
    "import dezero\n",
    "from dezero.models import VGG16"
   ]
  },
  {
   "cell_type": "code",
   "execution_count": null,
   "id": "9e1b8680",
   "metadata": {},
   "outputs": [],
   "source": [
    "url = 'https://github.com/oreilly-japan/deep-learning-from-scratch-3/raw/images/zebra.jpg'\n",
    "img_path = dezero.utils.get_file(url)\n",
    "img = Image.open(img_path)"
   ]
  },
  {
   "cell_type": "code",
   "execution_count": null,
   "id": "f11843f0",
   "metadata": {},
   "outputs": [],
   "source": [
    "x = VGG16.preprocess(img)\n",
    "x = x[np.newaxis]"
   ]
  },
  {
   "cell_type": "code",
   "execution_count": null,
   "id": "e0244297",
   "metadata": {},
   "outputs": [],
   "source": [
    "model = VGG16(pretrained=True)\n",
    "with dezero.test_mode():\n",
    "    y = model(x)\n",
    "predict_id = np.argmax(y.data)"
   ]
  },
  {
   "cell_type": "code",
   "execution_count": null,
   "id": "f5e620be",
   "metadata": {},
   "outputs": [],
   "source": [
    "model.plot(x, to_file='vgg.pdf')\n",
    "labels = dezero.datasets.ImageNet.labels()\n",
    "print(labels[predict_id])"
   ]
  }
 ],
 "metadata": {
  "jupytext": {
   "cell_metadata_filter": "-all",
   "main_language": "python",
   "notebook_metadata_filter": "-all"
  }
 },
 "nbformat": 4,
 "nbformat_minor": 5
}
