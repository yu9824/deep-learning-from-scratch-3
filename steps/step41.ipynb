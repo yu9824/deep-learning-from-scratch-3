{
 "cells": [
  {
   "cell_type": "code",
   "execution_count": null,
   "id": "680827af",
   "metadata": {},
   "outputs": [],
   "source": [
    "if '__file__' in globals():\n",
    "    import os, sys\n",
    "    sys.path.append(os.path.join(os.path.dirname(__file__), '..'))\n",
    "import numpy as np\n",
    "from dezero import Variable\n",
    "import dezero.functions as F"
   ]
  },
  {
   "cell_type": "code",
   "execution_count": null,
   "id": "8fa256a3",
   "metadata": {},
   "outputs": [],
   "source": [
    "x = Variable(np.random.randn(2, 3))\n",
    "w = Variable(np.random.randn(3, 4))\n",
    "y = F.matmul(x, w)\n",
    "y.backward()"
   ]
  },
  {
   "cell_type": "code",
   "execution_count": null,
   "id": "7839c318",
   "metadata": {},
   "outputs": [],
   "source": [
    "print(x.grad.shape)\n",
    "print(w.grad.shape)"
   ]
  }
 ],
 "metadata": {
  "jupytext": {
   "cell_metadata_filter": "-all",
   "main_language": "python",
   "notebook_metadata_filter": "-all"
  }
 },
 "nbformat": 4,
 "nbformat_minor": 5
}
