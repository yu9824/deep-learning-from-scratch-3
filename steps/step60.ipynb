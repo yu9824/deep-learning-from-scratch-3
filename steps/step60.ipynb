{
 "cells": [
  {
   "cell_type": "code",
   "execution_count": null,
   "id": "f9a2791d",
   "metadata": {
    "lines_to_next_cell": 2
   },
   "outputs": [],
   "source": [
    "if '__file__' in globals():\n",
    "    import os, sys\n",
    "    sys.path.append(os.path.join(os.path.dirname(__file__), '..'))\n",
    "import numpy as np\n",
    "import matplotlib.pyplot as plt\n",
    "import dezero\n",
    "from dezero import Model\n",
    "from dezero import SeqDataLoader\n",
    "import dezero.functions as F\n",
    "import dezero.layers as L"
   ]
  },
  {
   "cell_type": "code",
   "execution_count": null,
   "id": "b752d365",
   "metadata": {},
   "outputs": [],
   "source": [
    "max_epoch = 100\n",
    "batch_size = 30\n",
    "hidden_size = 100\n",
    "bptt_length = 30"
   ]
  },
  {
   "cell_type": "code",
   "execution_count": null,
   "id": "0394657c",
   "metadata": {},
   "outputs": [],
   "source": [
    "train_set = dezero.datasets.SinCurve(train=True)\n",
    "dataloader = SeqDataLoader(train_set, batch_size=batch_size)\n",
    "seqlen = len(train_set)"
   ]
  },
  {
   "cell_type": "code",
   "execution_count": null,
   "id": "ccaf7810",
   "metadata": {
    "lines_to_next_cell": 1
   },
   "outputs": [],
   "source": [
    "class BetterRNN(Model):\n",
    "    def __init__(self, hidden_size, out_size):\n",
    "        super().__init__()\n",
    "        self.rnn = L.LSTM(hidden_size)\n",
    "        self.fc = L.Linear(out_size)\n",
    "\n",
    "    def reset_state(self):\n",
    "        self.rnn.reset_state()\n",
    "\n",
    "    def __call__(self, x):\n",
    "        y = self.rnn(x)\n",
    "        y = self.fc(y)\n",
    "        return y"
   ]
  },
  {
   "cell_type": "code",
   "execution_count": null,
   "id": "a01ea791",
   "metadata": {},
   "outputs": [],
   "source": [
    "model = BetterRNN(hidden_size, 1)\n",
    "optimizer = dezero.optimizers.Adam().setup(model)"
   ]
  },
  {
   "cell_type": "code",
   "execution_count": null,
   "id": "a90992f1",
   "metadata": {},
   "outputs": [],
   "source": [
    "for epoch in range(max_epoch):\n",
    "    model.reset_state()\n",
    "    loss, count = 0, 0\n",
    "\n",
    "    for x, t in dataloader:\n",
    "        y = model(x)\n",
    "        loss += F.mean_squared_error(y, t)\n",
    "        count += 1\n",
    "\n",
    "        if count % bptt_length == 0 or count == seqlen:\n",
    "            model.cleargrads()\n",
    "            loss.backward()\n",
    "            loss.unchain_backward()\n",
    "            optimizer.update()\n",
    "    avg_loss = float(loss.data) / count\n",
    "    print('| epoch %d | loss %f' % (epoch + 1, avg_loss))"
   ]
  },
  {
   "cell_type": "code",
   "execution_count": null,
   "id": "4c81fdeb",
   "metadata": {},
   "outputs": [],
   "source": [
    "# Plot\n",
    "xs = np.cos(np.linspace(0, 4 * np.pi, 1000))\n",
    "model.reset_state()\n",
    "pred_list = []"
   ]
  },
  {
   "cell_type": "code",
   "execution_count": null,
   "id": "1ef2d762",
   "metadata": {},
   "outputs": [],
   "source": [
    "with dezero.no_grad():\n",
    "    for x in xs:\n",
    "        x = np.array(x).reshape(1, 1)\n",
    "        y = model(x)\n",
    "        pred_list.append(float(y.data))"
   ]
  },
  {
   "cell_type": "code",
   "execution_count": null,
   "id": "39cf9eeb",
   "metadata": {},
   "outputs": [],
   "source": [
    "plt.plot(np.arange(len(xs)), xs, label='y=cos(x)')\n",
    "plt.plot(np.arange(len(xs)), pred_list, label='predict')\n",
    "plt.xlabel('x')\n",
    "plt.ylabel('y')\n",
    "plt.legend()\n",
    "plt.show()"
   ]
  }
 ],
 "metadata": {
  "jupytext": {
   "cell_metadata_filter": "-all",
   "main_language": "python",
   "notebook_metadata_filter": "-all"
  }
 },
 "nbformat": 4,
 "nbformat_minor": 5
}
