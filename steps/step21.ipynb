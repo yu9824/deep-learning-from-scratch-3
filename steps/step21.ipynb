{
 "cells": [
  {
   "cell_type": "markdown",
   "id": "0bf628de",
   "metadata": {},
   "source": [
    "`Variable` を `np.ndarray` やスカラーと演算できるようにする"
   ]
  },
  {
   "cell_type": "code",
   "execution_count": 1,
   "id": "f2f925f4",
   "metadata": {},
   "outputs": [],
   "source": [
    "import weakref\n",
    "import numpy as np\n",
    "import contextlib"
   ]
  },
  {
   "cell_type": "code",
   "execution_count": 2,
   "id": "8f376c61",
   "metadata": {},
   "outputs": [],
   "source": [
    "class Config:\n",
    "    enable_backprop = True"
   ]
  },
  {
   "cell_type": "code",
   "execution_count": 3,
   "id": "cc9c1217",
   "metadata": {},
   "outputs": [],
   "source": [
    "@contextlib.contextmanager\n",
    "def using_config(name, value):\n",
    "    old_value = getattr(Config, name)\n",
    "    setattr(Config, name, value)\n",
    "    try:\n",
    "        yield\n",
    "    finally:\n",
    "        setattr(Config, name, old_value)"
   ]
  },
  {
   "cell_type": "code",
   "execution_count": 4,
   "id": "9e45ea50",
   "metadata": {},
   "outputs": [],
   "source": [
    "def no_grad():\n",
    "    return using_config(\"enable_backprop\", False)"
   ]
  },
  {
   "cell_type": "markdown",
   "id": "223910af",
   "metadata": {},
   "source": [
    "### 二項演算子の実装について\n",
    "\n",
    "二項演算子における呼び出される順番の話。足し算などの四則演算など。\n",
    "\n",
    "以下の場合にどのような順番でメソッドが呼ばれるのか。\n",
    "\n",
    "```python\n",
    "a + b\n",
    "```\n",
    "\n",
    "基本的には、\n",
    "\n",
    "1. `a.__add__` が呼ばれる\n",
    "2. (1. で `NotImplemented` が返ってきたときには) `b.__radd__` が呼ばれる\n",
    "\n",
    "たとえば、以下の例では、 1 (int) の `__add__` が呼ばれるが、 `np.ndarray` との演算は定義されておらず、 `NotImplemented` が帰ってくる。なので、 `np.ndarray.__radd__` が呼ばれる。結果演算できる。\n",
    "\n",
    "```python\n",
    "1 + np.array(1.0)\n",
    "```"
   ]
  },
  {
   "cell_type": "markdown",
   "id": "4b6ae20b",
   "metadata": {},
   "source": [
    "### \\_\\_array_priority\\_\\_について\n",
    "\n",
    "今回の `Variable` のように `np.ndarray` との演算をしたい場合、に困る。\n",
    "`np.ndarray.__add__` が強すぎる。 全然 `NotImplemented` にならないため、`np.ndarray` にされて演算されてしまう。\n",
    "\n",
    "なので、それもoverwrapしたい場合は、 `__array_priority__` というattributeを設定して、ある程度大きな値にする ( `np.ndarray.__array_priority__` のデフォルトは0 )。"
   ]
  },
  {
   "cell_type": "code",
   "execution_count": 5,
   "id": "2fc13875",
   "metadata": {},
   "outputs": [
    {
     "name": "stdout",
     "output_type": "stream",
     "text": [
      "[11 22 33]\n",
      "MyArray.__radd__ called\n",
      "My custom add result\n"
     ]
    }
   ],
   "source": [
    "class MyArray:\n",
    "    __array_priority__ = 0\n",
    "\n",
    "    def __array__(self, dtype=None):\n",
    "        return np.array([10, 20, 30])\n",
    "\n",
    "    def __radd__(self, other):\n",
    "        print(\"MyArray.__radd__ called\")\n",
    "        return \"My custom add result\"\n",
    "\n",
    "\n",
    "# 優先度の設定（デフォルトは0）\n",
    "a = np.array([1, 2, 3])\n",
    "b = MyArray()\n",
    "\n",
    "print(f\"{a + b}\")\n",
    "\n",
    "# 優先度を高く設定\n",
    "MyArray.__array_priority__ = 1000\n",
    "\n",
    "print(f\"{a + b}\")\n"
   ]
  },
  {
   "cell_type": "code",
   "execution_count": 6,
   "id": "2339998c",
   "metadata": {},
   "outputs": [],
   "source": [
    "class Variable:\n",
    "    # np.ndarray との演算でこっちの演算子を優先させる\n",
    "    __array_priority__ = 200\n",
    "\n",
    "    def __init__(self, data, name=None):\n",
    "        if data is not None:\n",
    "            if not isinstance(data, np.ndarray):\n",
    "                raise TypeError(\"{} is not supported\".format(type(data)))\n",
    "\n",
    "        self.data = data\n",
    "        self.name = name\n",
    "        self.grad = None\n",
    "        self.creator = None\n",
    "        self.generation = 0\n",
    "\n",
    "    @property\n",
    "    def shape(self):\n",
    "        return self.data.shape\n",
    "\n",
    "    @property\n",
    "    def ndim(self):\n",
    "        return self.data.ndim\n",
    "\n",
    "    @property\n",
    "    def size(self):\n",
    "        return self.data.size\n",
    "\n",
    "    @property\n",
    "    def dtype(self):\n",
    "        return self.data.dtype\n",
    "\n",
    "    def __len__(self):\n",
    "        return len(self.data)\n",
    "\n",
    "    def __repr__(self):\n",
    "        if self.data is None:\n",
    "            return \"variable(None)\"\n",
    "        p = str(self.data).replace(\"\\n\", \"\\n\" + \" \" * 9)\n",
    "        return \"variable(\" + p + \")\"\n",
    "\n",
    "    def set_creator(self, func):\n",
    "        self.creator = func\n",
    "        self.generation = func.generation + 1\n",
    "\n",
    "    def cleargrad(self):\n",
    "        self.grad = None\n",
    "\n",
    "    def backward(self, retain_grad=False):\n",
    "        if self.grad is None:\n",
    "            self.grad = np.ones_like(self.data)\n",
    "\n",
    "        funcs = []\n",
    "        seen_set = set()\n",
    "\n",
    "        def add_func(f):\n",
    "            if f not in seen_set:\n",
    "                funcs.append(f)\n",
    "                seen_set.add(f)\n",
    "                funcs.sort(key=lambda x: x.generation)\n",
    "\n",
    "        add_func(self.creator)\n",
    "\n",
    "        while funcs:\n",
    "            f = funcs.pop()\n",
    "            gys = [output().grad for output in f.outputs]  # output is weakref\n",
    "            gxs = f.backward(*gys)\n",
    "            if not isinstance(gxs, tuple):\n",
    "                gxs = (gxs,)\n",
    "\n",
    "            for x, gx in zip(f.inputs, gxs):\n",
    "                if x.grad is None:\n",
    "                    x.grad = gx\n",
    "                else:\n",
    "                    x.grad = x.grad + gx\n",
    "\n",
    "                if x.creator is not None:\n",
    "                    add_func(x.creator)\n",
    "\n",
    "            if not retain_grad:\n",
    "                for y in f.outputs:\n",
    "                    y().grad = None  # y is weakref"
   ]
  },
  {
   "cell_type": "code",
   "execution_count": 7,
   "id": "4608946f",
   "metadata": {},
   "outputs": [],
   "source": [
    "def as_variable(obj):\n",
    "    if isinstance(obj, Variable):\n",
    "        return obj\n",
    "    return Variable(obj)"
   ]
  },
  {
   "cell_type": "code",
   "execution_count": 8,
   "id": "6ca7ded1",
   "metadata": {},
   "outputs": [],
   "source": [
    "def as_array(x):\n",
    "    if np.isscalar(x):\n",
    "        return np.array(x)\n",
    "    return x"
   ]
  },
  {
   "cell_type": "code",
   "execution_count": 9,
   "id": "d95f91d2",
   "metadata": {},
   "outputs": [],
   "source": [
    "class Function:\n",
    "    def __call__(self, *inputs):\n",
    "        # as_variableをつかうことで全部 `Variable` に揃える\n",
    "        inputs = [as_variable(x) for x in inputs]\n",
    "\n",
    "        xs = [x.data for x in inputs]\n",
    "        ys = self.forward(*xs)\n",
    "        if not isinstance(ys, tuple):\n",
    "            ys = (ys,)\n",
    "        outputs = [Variable(as_array(y)) for y in ys]\n",
    "\n",
    "        if Config.enable_backprop:\n",
    "            self.generation = max([x.generation for x in inputs])\n",
    "            for output in outputs:\n",
    "                output.set_creator(self)\n",
    "            self.inputs = inputs\n",
    "            self.outputs = [weakref.ref(output) for output in outputs]\n",
    "\n",
    "        return outputs if len(outputs) > 1 else outputs[0]\n",
    "\n",
    "    def forward(self, xs):\n",
    "        raise NotImplementedError()\n",
    "\n",
    "    def backward(self, gys):\n",
    "        raise NotImplementedError()"
   ]
  },
  {
   "cell_type": "code",
   "execution_count": 10,
   "id": "345897a8",
   "metadata": {},
   "outputs": [],
   "source": [
    "class Add(Function):\n",
    "    def forward(self, x0, x1):\n",
    "        y = x0 + x1\n",
    "        return y\n",
    "\n",
    "    def backward(self, gy):\n",
    "        return gy, gy"
   ]
  },
  {
   "cell_type": "code",
   "execution_count": 11,
   "id": "396e5e30",
   "metadata": {},
   "outputs": [],
   "source": [
    "def add(x0, x1):\n",
    "    x1 = as_array(x1)\n",
    "    return Add()(x0, x1)"
   ]
  },
  {
   "cell_type": "code",
   "execution_count": 12,
   "id": "4f17ee8e",
   "metadata": {},
   "outputs": [],
   "source": [
    "class Mul(Function):\n",
    "    def forward(self, x0, x1):\n",
    "        y = x0 * x1\n",
    "        return y\n",
    "\n",
    "    def backward(self, gy):\n",
    "        x0, x1 = self.inputs[0].data, self.inputs[1].data\n",
    "        return gy * x1, gy * x0"
   ]
  },
  {
   "cell_type": "code",
   "execution_count": 13,
   "id": "10818912",
   "metadata": {},
   "outputs": [],
   "source": [
    "def mul(x0, x1):\n",
    "    x1 = as_array(x1)\n",
    "    return Mul()(x0, x1)"
   ]
  },
  {
   "cell_type": "code",
   "execution_count": 14,
   "id": "ce884fde",
   "metadata": {},
   "outputs": [
    {
     "data": {
      "text/plain": [
       "NotImplementedType"
      ]
     },
     "execution_count": 14,
     "metadata": {},
     "output_type": "execute_result"
    }
   ],
   "source": [
    "type((3.0).__mul__(np.array(3.0)))"
   ]
  },
  {
   "cell_type": "code",
   "execution_count": 15,
   "id": "9bee8ac7",
   "metadata": {},
   "outputs": [],
   "source": [
    "Variable.__add__ = add\n",
    "Variable.__radd__ = add\n",
    "Variable.__mul__ = mul\n",
    "Variable.__rmul__ = mul"
   ]
  },
  {
   "cell_type": "code",
   "execution_count": 16,
   "id": "427ff292",
   "metadata": {},
   "outputs": [
    {
     "name": "stdout",
     "output_type": "stream",
     "text": [
      "variable(5.0)\n"
     ]
    }
   ],
   "source": [
    "x = Variable(np.array(2.0))\n",
    "y = x + np.array(3.0)\n",
    "print(y)"
   ]
  },
  {
   "cell_type": "code",
   "execution_count": 17,
   "id": "b0b8471a",
   "metadata": {},
   "outputs": [
    {
     "name": "stdout",
     "output_type": "stream",
     "text": [
      "variable(5.0)\n"
     ]
    }
   ],
   "source": [
    "y = x + 3.0\n",
    "print(y)"
   ]
  },
  {
   "cell_type": "code",
   "execution_count": 18,
   "id": "1b9a58dd",
   "metadata": {},
   "outputs": [
    {
     "name": "stdout",
     "output_type": "stream",
     "text": [
      "variable(7.0)\n"
     ]
    }
   ],
   "source": [
    "y = 3.0 * x + 1.0\n",
    "print(y)"
   ]
  }
 ],
 "metadata": {
  "jupytext": {
   "cell_metadata_filter": "-all",
   "main_language": "python",
   "notebook_metadata_filter": "-all"
  },
  "kernelspec": {
   "display_name": "dlfs3",
   "language": "python",
   "name": "python3"
  },
  "language_info": {
   "codemirror_mode": {
    "name": "ipython",
    "version": 3
   },
   "file_extension": ".py",
   "mimetype": "text/x-python",
   "name": "python",
   "nbconvert_exporter": "python",
   "pygments_lexer": "ipython3",
   "version": "3.12.10"
  }
 },
 "nbformat": 4,
 "nbformat_minor": 5
}
