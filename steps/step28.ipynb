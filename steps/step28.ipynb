{
 "cells": [
  {
   "cell_type": "code",
   "execution_count": null,
   "id": "43337225",
   "metadata": {},
   "outputs": [],
   "source": [
    "if '__file__' in globals():\n",
    "    import os, sys\n",
    "    sys.path.append(os.path.join(os.path.dirname(__file__), '..'))\n",
    "import numpy as np\n",
    "from dezero import Variable\n",
    "# import dezero's simple_core explicitly\n",
    "import dezero\n",
    "if not dezero.is_simple_core:\n",
    "    from dezero.core_simple import Variable\n",
    "    from dezero.core_simple import setup_variable\n",
    "    setup_variable()"
   ]
  },
  {
   "cell_type": "code",
   "execution_count": null,
   "id": "0aa662b2",
   "metadata": {},
   "outputs": [],
   "source": [
    "def rosenbrock(x0, x1):\n",
    "    y = 100 * (x1 - x0 ** 2) ** 2 + (x0 - 1) ** 2\n",
    "    return y"
   ]
  },
  {
   "cell_type": "code",
   "execution_count": null,
   "id": "e2dbd591",
   "metadata": {},
   "outputs": [],
   "source": [
    "x0 = Variable(np.array(0.0))\n",
    "x1 = Variable(np.array(2.0))\n",
    "lr = 0.001\n",
    "iters = 1000"
   ]
  },
  {
   "cell_type": "code",
   "execution_count": null,
   "id": "f9b3444a",
   "metadata": {},
   "outputs": [],
   "source": [
    "for i in range(iters):\n",
    "    print(x0, x1)\n",
    "\n",
    "    y = rosenbrock(x0, x1)\n",
    "\n",
    "    x0.cleargrad()\n",
    "    x1.cleargrad()\n",
    "    y.backward()\n",
    "\n",
    "    x0.data -= lr * x0.grad\n",
    "    x1.data -= lr * x1.grad"
   ]
  }
 ],
 "metadata": {
  "jupytext": {
   "cell_metadata_filter": "-all",
   "main_language": "python",
   "notebook_metadata_filter": "-all"
  }
 },
 "nbformat": 4,
 "nbformat_minor": 5
}
