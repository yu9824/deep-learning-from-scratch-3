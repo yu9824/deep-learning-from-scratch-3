{
 "cells": [
  {
   "cell_type": "markdown",
   "id": "5983a63f",
   "metadata": {},
   "source": [
    "`.backward` で np.ndarrayとして演算してたのを `Variable` として演算させるように修正する。 `Variable` クラスは、自動で計算グラフを作るように設計されている。"
   ]
  }
 ],
 "metadata": {
  "jupytext": {
   "cell_metadata_filter": "-all",
   "main_language": "python",
   "notebook_metadata_filter": "-all"
  },
  "language_info": {
   "name": "python"
  }
 },
 "nbformat": 4,
 "nbformat_minor": 5
}
