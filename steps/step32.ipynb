{
 "cells": [
  {
   "cell_type": "markdown",
   "id": "5983a63f",
   "metadata": {},
   "source": [
    "No code"
   ]
  }
 ],
 "metadata": {
  "jupytext": {
   "cell_metadata_filter": "-all",
   "main_language": "python",
   "notebook_metadata_filter": "-all"
  }
 },
 "nbformat": 4,
 "nbformat_minor": 5
}
