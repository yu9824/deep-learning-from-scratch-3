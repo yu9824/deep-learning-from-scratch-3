{
 "cells": [
  {
   "cell_type": "code",
   "execution_count": 1,
   "id": "2627ce3f",
   "metadata": {},
   "outputs": [],
   "source": [
    "import os\n",
    "import sys\n",
    "from pathlib import Path\n",
    "\n",
    "import numpy as np\n",
    "\n",
    "if \"__file__\" in globals():\n",
    "    sys.path.append(str((Path(__file__).parent / \"..\").resolve()))\n",
    "else:\n",
    "    sys.path.append(str(Path(os.getcwd(), \"..\").resolve()))\n",
    "from dezero import Variable"
   ]
  },
  {
   "cell_type": "code",
   "execution_count": 2,
   "id": "4f1657d1",
   "metadata": {},
   "outputs": [],
   "source": [
    "x = Variable(np.array(2.0))\n",
    "y = x**2\n",
    "y.backward(create_graph=True)\n",
    "gx = x.grad\n",
    "x.cleargrad()"
   ]
  },
  {
   "cell_type": "code",
   "execution_count": 3,
   "id": "fcf69c32",
   "metadata": {},
   "outputs": [
    {
     "name": "stdout",
     "output_type": "stream",
     "text": [
      "variable(100.0)\n"
     ]
    }
   ],
   "source": [
    "z = gx**3 + y\n",
    "z.backward()\n",
    "print(x.grad)"
   ]
  }
 ],
 "metadata": {
  "jupytext": {
   "cell_metadata_filter": "-all",
   "main_language": "python",
   "notebook_metadata_filter": "-all"
  },
  "kernelspec": {
   "display_name": "dlfs3",
   "language": "python",
   "name": "python3"
  },
  "language_info": {
   "codemirror_mode": {
    "name": "ipython",
    "version": 3
   },
   "file_extension": ".py",
   "mimetype": "text/x-python",
   "name": "python",
   "nbconvert_exporter": "python",
   "pygments_lexer": "ipython3",
   "version": "3.12.10"
  }
 },
 "nbformat": 4,
 "nbformat_minor": 5
}
