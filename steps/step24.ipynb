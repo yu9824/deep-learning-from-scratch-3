{
 "cells": [
  {
   "cell_type": "markdown",
   "id": "0725b6a6",
   "metadata": {},
   "source": [
    "[Test functions for optimization](https://en.wikipedia.org/wiki/Test_functions_for_optimization)で紹介されている最適化手法のベンチマーク用の関数を使って、いくつか微分を試してみる。"
   ]
  },
  {
   "cell_type": "code",
   "execution_count": 1,
   "id": "0c517278",
   "metadata": {},
   "outputs": [],
   "source": [
    "# Add import path for the dezero directory.\n",
    "import os\n",
    "import sys\n",
    "from pathlib import Path\n",
    "\n",
    "if \"__file__\" in globals():\n",
    "    sys.path.append(str((Path(__file__).parent / \"..\").resolve()))\n",
    "else:\n",
    "    sys.path.append(str(Path(os.getcwd(), \"..\").resolve()))\n",
    "\n",
    "import numpy as np\n",
    "\n",
    "from dezero.core_simple import Variable"
   ]
  },
  {
   "cell_type": "code",
   "execution_count": 2,
   "id": "90273a00",
   "metadata": {},
   "outputs": [],
   "source": [
    "def sphere(x: Variable, y: Variable) -> Variable:\n",
    "    z = x**2 + y**2\n",
    "    return z"
   ]
  },
  {
   "cell_type": "code",
   "execution_count": 3,
   "id": "2b0a4841",
   "metadata": {},
   "outputs": [],
   "source": [
    "def matyas(x: Variable, y: Variable) -> Variable:\n",
    "    z = 0.26 * (x**2 + y**2) - 0.48 * x * y\n",
    "    return z"
   ]
  },
  {
   "cell_type": "code",
   "execution_count": 4,
   "id": "44c81b38",
   "metadata": {},
   "outputs": [],
   "source": [
    "def goldstein(x: Variable, y: Variable) -> Variable:\n",
    "    z = (\n",
    "        1\n",
    "        + (x + y + 1) ** 2\n",
    "        * (19 - 14 * x + 3 * x**2 - 14 * y + 6 * x * y + 3 * y**2)\n",
    "    ) * (\n",
    "        30\n",
    "        + (2 * x - 3 * y) ** 2\n",
    "        * (18 - 32 * x + 12 * x**2 + 48 * y - 36 * x * y + 27 * y**2)\n",
    "    )\n",
    "    return z"
   ]
  },
  {
   "cell_type": "code",
   "execution_count": 5,
   "id": "34cbe2df",
   "metadata": {},
   "outputs": [],
   "source": [
    "x = Variable(np.array(1.0))\n",
    "y = Variable(np.array(1.0))"
   ]
  },
  {
   "cell_type": "code",
   "execution_count": 6,
   "id": "c893ec16",
   "metadata": {},
   "outputs": [
    {
     "name": "stdout",
     "output_type": "stream",
     "text": [
      "2.0 2.0\n"
     ]
    }
   ],
   "source": [
    "z = sphere(x, y)\n",
    "z.backward()\n",
    "print(x.grad, y.grad)"
   ]
  },
  {
   "cell_type": "code",
   "execution_count": 7,
   "id": "79c8d8a7",
   "metadata": {},
   "outputs": [],
   "source": [
    "# 勾配初期化\n",
    "x.cleargrad()\n",
    "y.cleargrad()"
   ]
  },
  {
   "cell_type": "code",
   "execution_count": 8,
   "id": "d4e4e511",
   "metadata": {},
   "outputs": [
    {
     "name": "stdout",
     "output_type": "stream",
     "text": [
      "0.040000000000000036 0.040000000000000036\n"
     ]
    }
   ],
   "source": [
    "z = matyas(x, y)\n",
    "z.backward()\n",
    "print(x.grad, y.grad)"
   ]
  },
  {
   "cell_type": "code",
   "execution_count": 9,
   "id": "d037502f",
   "metadata": {},
   "outputs": [],
   "source": [
    "# 勾配初期化\n",
    "x.cleargrad()\n",
    "y.cleargrad()"
   ]
  },
  {
   "cell_type": "code",
   "execution_count": 10,
   "id": "3badb6a8",
   "metadata": {},
   "outputs": [
    {
     "name": "stdout",
     "output_type": "stream",
     "text": [
      "-5376.0 8064.0\n"
     ]
    }
   ],
   "source": [
    "z = goldstein(x, y)  # sphere(x, y) / matyas(x, y)\n",
    "z.backward()\n",
    "print(x.grad, y.grad)"
   ]
  }
 ],
 "metadata": {
  "jupytext": {
   "cell_metadata_filter": "-all",
   "main_language": "python",
   "notebook_metadata_filter": "-all"
  },
  "kernelspec": {
   "display_name": "dlfs3",
   "language": "python",
   "name": "python3"
  },
  "language_info": {
   "codemirror_mode": {
    "name": "ipython",
    "version": 3
   },
   "file_extension": ".py",
   "mimetype": "text/x-python",
   "name": "python",
   "nbconvert_exporter": "python",
   "pygments_lexer": "ipython3",
   "version": "3.12.10"
  }
 },
 "nbformat": 4,
 "nbformat_minor": 5
}
