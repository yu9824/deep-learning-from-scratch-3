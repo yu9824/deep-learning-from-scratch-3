{
 "cells": [
  {
   "cell_type": "code",
   "execution_count": null,
   "id": "76748f78",
   "metadata": {
    "lines_to_next_cell": 2
   },
   "outputs": [],
   "source": [
    "if '__file__' in globals():\n",
    "    import os, sys\n",
    "    sys.path.append(os.path.join(os.path.dirname(__file__), '..'))\n",
    "import numpy as np\n",
    "from dezero import Variable\n",
    "import dezero.functions as F"
   ]
  },
  {
   "cell_type": "code",
   "execution_count": null,
   "id": "7e291538",
   "metadata": {},
   "outputs": [],
   "source": [
    "# im2col\n",
    "x1 = np.random.rand(1, 3, 7, 7)\n",
    "col1 = F.im2col(x1, kernel_size=5, stride=1, pad=0, to_matrix=True)\n",
    "print(col1.shape)  # (9, 75)"
   ]
  },
  {
   "cell_type": "code",
   "execution_count": null,
   "id": "67038433",
   "metadata": {
    "lines_to_next_cell": 2
   },
   "outputs": [],
   "source": [
    "x2 = np.random.rand(10, 3, 7, 7)  # 10個のデータ\n",
    "kernel_size = (5, 5)\n",
    "stride = (1, 1)\n",
    "pad = (0, 0)\n",
    "col2 = F.im2col(x2, kernel_size, stride, pad, to_matrix=True)\n",
    "print(col2.shape)  # (90, 75)"
   ]
  },
  {
   "cell_type": "code",
   "execution_count": null,
   "id": "f322a25e",
   "metadata": {},
   "outputs": [],
   "source": [
    "# conv2d\n",
    "N, C, H, W = 1, 5, 15, 15\n",
    "OC, (KH, KW) = 8, (3, 3)\n",
    "x = Variable(np.random.randn(N, C, H, W))\n",
    "W = np.random.randn(OC, C, KH, KW)\n",
    "y = F.conv2d_simple(x, W, b=None, stride=1, pad=1)\n",
    "y.backward()\n",
    "print(y.shape)  # (1, 8, 15, 15)\n",
    "print(x.grad.shape)  # (1, 5, 15, 15)"
   ]
  }
 ],
 "metadata": {
  "jupytext": {
   "cell_metadata_filter": "-all",
   "main_language": "python",
   "notebook_metadata_filter": "-all"
  }
 },
 "nbformat": 4,
 "nbformat_minor": 5
}
