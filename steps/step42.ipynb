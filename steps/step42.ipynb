{
 "cells": [
  {
   "cell_type": "code",
   "execution_count": null,
   "id": "ad4c557a",
   "metadata": {},
   "outputs": [],
   "source": [
    "if '__file__' in globals():\n",
    "    import os, sys\n",
    "    sys.path.append(os.path.join(os.path.dirname(__file__), '..'))\n",
    "import numpy as np\n",
    "import matplotlib.pyplot as plt\n",
    "from dezero import Variable\n",
    "import dezero.functions as F"
   ]
  },
  {
   "cell_type": "code",
   "execution_count": null,
   "id": "b3f818e2",
   "metadata": {},
   "outputs": [],
   "source": [
    "# Generate toy dataset\n",
    "np.random.seed(0)\n",
    "x = np.random.rand(100, 1)\n",
    "y = 5 + 2 * x + np.random.rand(100, 1)\n",
    "x, y = Variable(x), Variable(y)"
   ]
  },
  {
   "cell_type": "code",
   "execution_count": null,
   "id": "805cfee1",
   "metadata": {},
   "outputs": [],
   "source": [
    "W = Variable(np.zeros((1, 1)))\n",
    "b = Variable(np.zeros(1))"
   ]
  },
  {
   "cell_type": "code",
   "execution_count": null,
   "id": "97a81701",
   "metadata": {},
   "outputs": [],
   "source": [
    "def predict(x):\n",
    "    y = F.matmul(x, W) + b\n",
    "    return y"
   ]
  },
  {
   "cell_type": "code",
   "execution_count": null,
   "id": "1de431f7",
   "metadata": {},
   "outputs": [],
   "source": [
    "def mean_squared_error(x0, x1):\n",
    "    diff = x0 - x1\n",
    "    return F.sum(diff ** 2) / len(diff)"
   ]
  },
  {
   "cell_type": "code",
   "execution_count": null,
   "id": "2be9b48b",
   "metadata": {},
   "outputs": [],
   "source": [
    "lr = 0.1\n",
    "iters = 100"
   ]
  },
  {
   "cell_type": "code",
   "execution_count": null,
   "id": "acd3dab2",
   "metadata": {
    "lines_to_next_cell": 2
   },
   "outputs": [],
   "source": [
    "for i in range(iters):\n",
    "    y_pred = predict(x)\n",
    "    loss = mean_squared_error(y, y_pred)\n",
    "\n",
    "    W.cleargrad()\n",
    "    b.cleargrad()\n",
    "    loss.backward()\n",
    "\n",
    "    # Update .data attribute (No need grads when updating params)\n",
    "    W.data -= lr * W.grad.data\n",
    "    b.data -= lr * b.grad.data\n",
    "    print(W, b, loss)"
   ]
  },
  {
   "cell_type": "code",
   "execution_count": null,
   "id": "302c72bc",
   "metadata": {},
   "outputs": [],
   "source": [
    "# Plot\n",
    "plt.scatter(x.data, y.data, s=10)\n",
    "plt.xlabel('x')\n",
    "plt.ylabel('y')\n",
    "y_pred = predict(x)\n",
    "plt.plot(x.data, y_pred.data, color='r')\n",
    "plt.show()"
   ]
  }
 ],
 "metadata": {
  "jupytext": {
   "cell_metadata_filter": "-all",
   "main_language": "python",
   "notebook_metadata_filter": "-all"
  }
 },
 "nbformat": 4,
 "nbformat_minor": 5
}
